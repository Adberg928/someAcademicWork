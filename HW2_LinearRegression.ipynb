{
  "cells": [
    {
      "cell_type": "markdown",
      "metadata": {
        "id": "6pA29z4PmU1s"
      },
      "source": [
        "# Homework 2 - Linear Regression\n",
        "For homework 2, you will apply linear regression to real energy datasets. This assignment is designed to provide hands-on practices. \n",
        "\n",
        "MAKE YOUR OWN COPY OF THIS FILE BEFORE YOU START. \n",
        "\n",
        "Complete each task and submit your Jupyter notebook on Blackboard.\n",
        "\n",
        "# Section:\n",
        "- Linear Regression\n",
        "- Train-Test Split\n",
        "- Error Metric\n",
        "- K-Fold Cross-Validation\n",
        "- Real-World Applications\n",
        "  - Energy\n",
        "  - Ocean (MS Student Only)\n",
        "\n",
        "## To-Do Lists\n",
        "Look out for sections marked \"# IMPLEMENT\" and \"# QUESTION\"\n",
        "- Undergrads: 5 Implement Blocks + 1 Question Block - 6 Points Total\n",
        "- Masters: 7 Implement Blocks + 2 Question Blocks - 9 Points Total\n",
        "\n",
        "Partial credits will be given."
      ]
    },
    {
      "cell_type": "code",
      "execution_count": null,
      "metadata": {
        "id": "_5C5ytENB-g-"
      },
      "outputs": [],
      "source": [
        "import numpy as np\n",
        "import pandas as pd\n",
        "import matplotlib.pyplot as plt\n",
        "from sklearn import linear_model"
      ]
    },
    {
      "cell_type": "markdown",
      "metadata": {
        "id": "3YwucCtNapO3"
      },
      "source": [
        "## [1] Linear Regression"
      ]
    },
    {
      "cell_type": "code",
      "execution_count": null,
      "metadata": {
        "id": "d7g-YdJEAxMK"
      },
      "outputs": [],
      "source": [
        "# generate 1000 random points to use for example and your own testing\n",
        "num_points = 1000\n",
        "\n",
        "num_features = 5\n",
        "\n",
        "# set random seed for reproducibility\n",
        "np.random.seed(hash(\"csci\")%461)\n",
        "\n",
        "# create random data from random function (w*X)\n",
        "true_weights = np.random.randn(5)+([3]+[0]*(num_features-1))\n",
        "\n",
        "# randomly generate data according to normal distribution\n",
        "X_full = np.random.randn(num_points, num_features)\n",
        "\n",
        "# create random y from features as linear weighted sum, with some additional noise\n",
        "y_full = X_full.dot(true_weights) + np.random.randn(num_points)"
      ]
    },
    {
      "cell_type": "code",
      "execution_count": null,
      "metadata": {
        "id": "f4JB8RzzFFjD"
      },
      "outputs": [],
      "source": [
        "# print out the true weights\n",
        "true_weights"
      ]
    },
    {
      "cell_type": "code",
      "execution_count": null,
      "metadata": {
        "id": "Q90b0H0iCzOI"
      },
      "outputs": [],
      "source": [
        "# scatter plot - the first dimension with the target y \n",
        "# (visually examine correlation between feature and target)\n",
        "plt.scatter(X_full[:,0], y_full)\n",
        "plt.xlabel(\"Feature 0\",size=14)\n",
        "plt.ylabel(\"Target Y\",size=14)\n",
        "plt.show()"
      ]
    },
    {
      "cell_type": "code",
      "execution_count": null,
      "metadata": {
        "id": "c4VqgLgfQKsN"
      },
      "outputs": [],
      "source": [
        "# example of fitting a linear regression model (using the one from sklearn)\n",
        "# initialize model\n",
        "example_model = linear_model.LinearRegression()\n",
        "\n",
        "# fit model on some data (first 20 items)\n",
        "example_model.fit(X_full[:20], y_full[:20])\n",
        "\n",
        "# make predictions on other data\n",
        "y_pred = example_model.predict(X_full)\n",
        "\n",
        "# evaluate results\n",
        "plt.scatter(y_pred, y_full)\n",
        "plt.xlabel(\"Predicted Y\",size=14)\n",
        "plt.ylabel(\"True Y\",size=14)\n",
        "plt.show()"
      ]
    },
    {
      "cell_type": "markdown",
      "metadata": {
        "id": "i1zOOUc3ayZK"
      },
      "source": [
        "## [2] Train-Test Split"
      ]
    },
    {
      "cell_type": "code",
      "execution_count": null,
      "metadata": {
        "id": "tR67xZdyF9Nw"
      },
      "outputs": [],
      "source": [
        "def random_split(p: float, X: np.array, y: np.array):\n",
        "    \n",
        "    \"\"\" \n",
        "    \n",
        "    Given a numpy feature matrix X of size NxM where N is the number of points and M is \n",
        "    the number of features and a target variable y of size Nx1 where N is the number\n",
        "    of points. Randomly split X and y by P where P is the \"proportion\" of\n",
        "    points in the training set, 1-P is proportion of points in the test set.\n",
        "\n",
        "    Try to use np.random.shuffle with the indices\n",
        "\n",
        "    Output should be a list of numpys [X_train, X_test, y_train, y_train]\n",
        "    \n",
        "    In this order,\n",
        "    X_train of size N*P x M\n",
        "    X_test of size N*(1-P) x M\n",
        "    y_train of size N*P x 1\n",
        "    y_train of size N*(1-P) x 1\n",
        "    \n",
        "    \"\"\"\n",
        "    \n",
        "    # -------------------------------------------------------------------------\n",
        "    # IMPLEMENT - 1 Point\n",
        "    # -------------------------------------------------------------------------\n",
        "    np.random.shuffle(X)\n",
        "    np.random.shuffle(y)\n",
        "\n",
        "    X_trainSize = round(X.shape[0] * p)\n",
        "    X_train = X[:X_trainSize, :]\n",
        "    X_test = X[X_trainSize:, :]\n",
        "    y_trainSize = round(y.shape[0] * p)\n",
        "    y_train = y[:y_trainSize]\n",
        "    y_test = y[y_trainSize:]\n",
        "    partitioned_arrs = [X_train, X_test, y_train, y_test]\n",
        "    return partitioned_arrs"
      ]
    },
    {
      "cell_type": "code",
      "execution_count": null,
      "metadata": {
        "id": "24y5W7ATIoXe"
      },
      "outputs": [],
      "source": [
        "# example usage\n",
        "print(\"X shape:\", X_full.shape)\n",
        "print(\"y shape:\", y_full.shape)\n",
        "\n",
        "# Here we use the function you implemented\n",
        "train_p = 0.8\n",
        "X_tr, X_te, y_tr, y_te = random_split(train_p, X_full, y_full)\n",
        "print(\"shapes of output:\", X_tr.shape, X_te.shape, y_tr.shape, y_te.shape)"
      ]
    },
    {
      "cell_type": "code",
      "execution_count": null,
      "metadata": {
        "id": "z1KQjaKoP0-y"
      },
      "outputs": [],
      "source": [
        "# fit model with train-test split to get y_pred on the test set\n",
        "model = linear_model.LinearRegression()\n",
        "\n",
        "# fit with train data and labels\n",
        "model.fit(X_tr, y_tr)\n",
        "# apply to test data\n",
        "y_pred = model.predict(X_te)\n",
        "\n",
        "# evaluate results on test labels\n",
        "plt.scatter(y_te, y_pred)\n",
        "plt.xlabel(\"True Y\")\n",
        "plt.ylabel(\"Predicted Y\")\n",
        "plt.show()"
      ]
    },
    {
      "cell_type": "markdown",
      "metadata": {
        "id": "SCMJNnSybKES"
      },
      "source": [
        "## [3] Error Metric"
      ]
    },
    {
      "cell_type": "code",
      "execution_count": null,
      "metadata": {
        "id": "s9VjUExISV8a"
      },
      "outputs": [],
      "source": [
        "from numpy import diff\n",
        "\n",
        "\n",
        "def mean_squared_error(y_true: np.array, y_pred: np.array):\n",
        "    \n",
        "    \"\"\" \n",
        "    \n",
        "    Computes mean squared error between input vectors y_true and y_pred. Both inputs\n",
        "    are numpy array of size Nx1 where N is the number of points.\n",
        "\n",
        "    Output should be a numpy float\n",
        "    \n",
        "    You should not be using sklearn's implementation here\n",
        "    \n",
        "    \"\"\"\n",
        "\n",
        "    # -------------------------------------------------------------------------\n",
        "    # IMPLEMENT - 1 Point\n",
        "    # -------------------------------------------------------------------------\n",
        "    diffArr = np.subtract(y_true, y_pred)\n",
        "    mse = (np.square(diffArr)).mean()\n",
        "    return mse"
      ]
    },
    {
      "cell_type": "code",
      "execution_count": null,
      "metadata": {
        "id": "2LWDYVpZRnQn"
      },
      "outputs": [],
      "source": [
        "from sklearn import metrics\n",
        "\n",
        "# let us look at three different metrics: \n",
        "# your Mean Square Error, sklearn Mean Absolute Error, and R2\n",
        "mse = mean_squared_error(y_te, y_pred)\n",
        "mae = metrics.mean_absolute_error(y_te, y_pred)\n",
        "rsq = metrics.r2_score(y_te, y_pred)\n",
        "print(mse)\n",
        "print(mae)\n",
        "print(rsq)"
      ]
    },
    {
      "cell_type": "markdown",
      "metadata": {
        "id": "J2OnEKAKbSYa"
      },
      "source": [
        "## [4] K-Fold Cross-Validation"
      ]
    },
    {
      "cell_type": "code",
      "execution_count": null,
      "metadata": {
        "id": "4mvRiixgTlO3"
      },
      "outputs": [],
      "source": [
        "def cross_validate(model, X: np.array, y: np.array, k: int, metrics=[mean_squared_error]):\n",
        "    \n",
        "    \"\"\" \n",
        "    \n",
        "    Given a model with feature matrix X of size NxM and target variable y\n",
        "    of size Nx1 where N is the number of points and M is the number of features.\n",
        "\n",
        "    Partition X and y into K partitions. Use K-fold cross-validation to train and \n",
        "    evaluate the model given a list of error metrics (either your own functions or existing ones). \n",
        "\n",
        "    metrics specifies a list of error metrics function names (one or more of them), of length E.\n",
        "    The default value for 'metrics' is to use the function mean_square_error\n",
        "    \n",
        "    Remember: \n",
        "    train the model with the training set and evaluate the model on the test set.\n",
        "    \n",
        "    Output should be a list of size ExK where E is the number of error metrics\n",
        "    and K is the number of partitions.\n",
        "\n",
        "    Output Example:\n",
        "    cross_validate = [[mse_cross_val_1, mse_cross_val_2, ..., mse_cross_val_k],\n",
        "                     [other_metric_1,...],[other_metric_2,...]]\n",
        "    \n",
        "    \"\"\"\n",
        "\n",
        "    # -------------------------------------------------------------------------\n",
        "    # IMPLEMENT - 1 Point\n",
        "    # -------------------------------------------------------------------------\n",
        "    proportion = float(1 - (1/k))\n",
        "    cross_val_metrics = np.ndarray(shape=(len(metrics), k), buffer=0)\n",
        "    #is metrics even an array... thats a major question here\n",
        "    #only other question is if im going through the other arrays right\n",
        "    for e in range(len(metrics)):\n",
        "        temp = k\n",
        "        rowCV = np.zeros(k)\n",
        "        while(k > 0):\n",
        "            xTrain, xTest, yTrain, yTest = random_split(proportion, X, y)\n",
        "            model.fit(xTrain, yTrain)\n",
        "            yPred = model.predict(xTest)\n",
        "            rowCV[k-1] = metrics[e](yTest, yPred)\n",
        "            k=k-1\n",
        "        cross_val_metrics[e] = rowCV\n",
        "        k = temp\n",
        "\n",
        "    return cross_val_metrics"
      ]
    },
    {
      "cell_type": "code",
      "execution_count": null,
      "metadata": {
        "id": "I5jNyAEtVL85"
      },
      "outputs": [],
      "source": [
        "model = linear_model.LinearRegression()\n",
        "\n",
        "# let us try your k-fold cross validation with three different error metrics\n",
        "k = 3\n",
        "cross_val_metrics = cross_validate(model, X_full, y_full, k, metrics=[mean_squared_error, metrics.mean_absolute_error, metrics.r2_score])\n",
        "\n",
        "df_lr = pd.DataFrame({\"Model\":[\"Linear\",\"Linear\",\"Linear\"],\n",
        "                      \"Error\":[\"MSE\", \"MAE\", \"R2\"],\n",
        "                      \"Mean\":np.mean(cross_val_metrics, axis=1),\n",
        "                      \"Std\":np.std(cross_val_metrics, axis=1)})\n",
        "\n",
        "df_lr = df_lr.sort_values(\"Error\").reset_index(drop=True)\n",
        "\n",
        "df_lr\n",
        "\n",
        "# note if you haven't yet implemented mean_squared_error, you can add any of the\n",
        "# sklearn metrics from https://scikit-learn.org/stable/modules/classes.html#module-sklearn.metrics"
      ]
    },
    {
      "cell_type": "code",
      "execution_count": null,
      "metadata": {
        "colab": {
          "base_uri": "https://localhost:8080/",
          "height": 143
        },
        "id": "_tCHtEwMWOKj",
        "outputId": "b0a78881-095e-40cc-c722-475680e812b6"
      },
      "outputs": [
        {
          "data": {
            "text/html": [
              "\n",
              "  <div id=\"df-344dc92e-556f-4cc4-aa2c-486ca0db8889\">\n",
              "    <div class=\"colab-df-container\">\n",
              "      <div>\n",
              "<style scoped>\n",
              "    .dataframe tbody tr th:only-of-type {\n",
              "        vertical-align: middle;\n",
              "    }\n",
              "\n",
              "    .dataframe tbody tr th {\n",
              "        vertical-align: top;\n",
              "    }\n",
              "\n",
              "    .dataframe thead th {\n",
              "        text-align: right;\n",
              "    }\n",
              "</style>\n",
              "<table border=\"1\" class=\"dataframe\">\n",
              "  <thead>\n",
              "    <tr style=\"text-align: right;\">\n",
              "      <th></th>\n",
              "      <th>Model</th>\n",
              "      <th>Error</th>\n",
              "      <th>Mean</th>\n",
              "      <th>Std</th>\n",
              "    </tr>\n",
              "  </thead>\n",
              "  <tbody>\n",
              "    <tr>\n",
              "      <th>0</th>\n",
              "      <td>Ridge</td>\n",
              "      <td>MSE</td>\n",
              "      <td>0</td>\n",
              "      <td>0</td>\n",
              "    </tr>\n",
              "    <tr>\n",
              "      <th>1</th>\n",
              "      <td>Ridge</td>\n",
              "      <td>MAE</td>\n",
              "      <td>0</td>\n",
              "      <td>0</td>\n",
              "    </tr>\n",
              "    <tr>\n",
              "      <th>2</th>\n",
              "      <td>Ridge</td>\n",
              "      <td>R2</td>\n",
              "      <td>0</td>\n",
              "      <td>0</td>\n",
              "    </tr>\n",
              "  </tbody>\n",
              "</table>\n",
              "</div>\n",
              "      <button class=\"colab-df-convert\" onclick=\"convertToInteractive('df-344dc92e-556f-4cc4-aa2c-486ca0db8889')\"\n",
              "              title=\"Convert this dataframe to an interactive table.\"\n",
              "              style=\"display:none;\">\n",
              "        \n",
              "  <svg xmlns=\"http://www.w3.org/2000/svg\" height=\"24px\"viewBox=\"0 0 24 24\"\n",
              "       width=\"24px\">\n",
              "    <path d=\"M0 0h24v24H0V0z\" fill=\"none\"/>\n",
              "    <path d=\"M18.56 5.44l.94 2.06.94-2.06 2.06-.94-2.06-.94-.94-2.06-.94 2.06-2.06.94zm-11 1L8.5 8.5l.94-2.06 2.06-.94-2.06-.94L8.5 2.5l-.94 2.06-2.06.94zm10 10l.94 2.06.94-2.06 2.06-.94-2.06-.94-.94-2.06-.94 2.06-2.06.94z\"/><path d=\"M17.41 7.96l-1.37-1.37c-.4-.4-.92-.59-1.43-.59-.52 0-1.04.2-1.43.59L10.3 9.45l-7.72 7.72c-.78.78-.78 2.05 0 2.83L4 21.41c.39.39.9.59 1.41.59.51 0 1.02-.2 1.41-.59l7.78-7.78 2.81-2.81c.8-.78.8-2.07 0-2.86zM5.41 20L4 18.59l7.72-7.72 1.47 1.35L5.41 20z\"/>\n",
              "  </svg>\n",
              "      </button>\n",
              "      \n",
              "  <style>\n",
              "    .colab-df-container {\n",
              "      display:flex;\n",
              "      flex-wrap:wrap;\n",
              "      gap: 12px;\n",
              "    }\n",
              "\n",
              "    .colab-df-convert {\n",
              "      background-color: #E8F0FE;\n",
              "      border: none;\n",
              "      border-radius: 50%;\n",
              "      cursor: pointer;\n",
              "      display: none;\n",
              "      fill: #1967D2;\n",
              "      height: 32px;\n",
              "      padding: 0 0 0 0;\n",
              "      width: 32px;\n",
              "    }\n",
              "\n",
              "    .colab-df-convert:hover {\n",
              "      background-color: #E2EBFA;\n",
              "      box-shadow: 0px 1px 2px rgba(60, 64, 67, 0.3), 0px 1px 3px 1px rgba(60, 64, 67, 0.15);\n",
              "      fill: #174EA6;\n",
              "    }\n",
              "\n",
              "    [theme=dark] .colab-df-convert {\n",
              "      background-color: #3B4455;\n",
              "      fill: #D2E3FC;\n",
              "    }\n",
              "\n",
              "    [theme=dark] .colab-df-convert:hover {\n",
              "      background-color: #434B5C;\n",
              "      box-shadow: 0px 1px 3px 1px rgba(0, 0, 0, 0.15);\n",
              "      filter: drop-shadow(0px 1px 2px rgba(0, 0, 0, 0.3));\n",
              "      fill: #FFFFFF;\n",
              "    }\n",
              "  </style>\n",
              "\n",
              "      <script>\n",
              "        const buttonEl =\n",
              "          document.querySelector('#df-344dc92e-556f-4cc4-aa2c-486ca0db8889 button.colab-df-convert');\n",
              "        buttonEl.style.display =\n",
              "          google.colab.kernel.accessAllowed ? 'block' : 'none';\n",
              "\n",
              "        async function convertToInteractive(key) {\n",
              "          const element = document.querySelector('#df-344dc92e-556f-4cc4-aa2c-486ca0db8889');\n",
              "          const dataTable =\n",
              "            await google.colab.kernel.invokeFunction('convertToInteractive',\n",
              "                                                     [key], {});\n",
              "          if (!dataTable) return;\n",
              "\n",
              "          const docLinkHtml = 'Like what you see? Visit the ' +\n",
              "            '<a target=\"_blank\" href=https://colab.research.google.com/notebooks/data_table.ipynb>data table notebook</a>'\n",
              "            + ' to learn more about interactive tables.';\n",
              "          element.innerHTML = '';\n",
              "          dataTable['output_type'] = 'display_data';\n",
              "          await google.colab.output.renderOutput(dataTable, element);\n",
              "          const docLink = document.createElement('div');\n",
              "          docLink.innerHTML = docLinkHtml;\n",
              "          element.appendChild(docLink);\n",
              "        }\n",
              "      </script>\n",
              "    </div>\n",
              "  </div>\n",
              "  "
            ],
            "text/plain": [
              "   Model Error  Mean  Std\n",
              "0  Ridge   MSE     0    0\n",
              "1  Ridge   MAE     0    0\n",
              "2  Ridge    R2     0    0"
            ]
          },
          "execution_count": 4,
          "metadata": {},
          "output_type": "execute_result"
        }
      ],
      "source": [
        "'''\n",
        "\n",
        "Run 5-fold cross-validation, Ridge regression model (import it from sklearn) on the data\n",
        "  - Show average error over the K folds for mean squared error, mean absolute error, r2 score ( a list of 3 values)\n",
        "  - Show standard deviation over the K folds for the same 3 metrics (a list of 3 values)\n",
        "  - Put these statistics in a pandas dataframe\n",
        "\n",
        "'''\n",
        "\n",
        "# -------------------------------------------------------------------------\n",
        "# IMPLEMENT - 1 Point\n",
        "# -------------------------------------------------------------------------\n",
        "from sklearn.linear_model import Ridge\n",
        "from sklearn import metrics\n",
        "\n",
        "metrics = [mean_squared_error, metrics.mean_absolute_error, metrics.r2_score]\n",
        "modelRaw = linear_model.RidgeCV(alphas=[0.2, 0.5, 0.8])\n",
        "model = modelRaw.fit(X_full, y_full)\n",
        "k=5\n",
        "\n",
        "cvMetrics = cross_validate(model, X_full, y_full, k, metrics)\n",
        "meansArr = np.mean(cvMetrics, axis = 1)\n",
        "sdArr = np.std(cvMetrics, axis=1)\n",
        "#to be inserted to pd.DataFrame\n",
        "\n",
        "pd.DataFrame({\"Model\":[\"Ridge\",\"Ridge\",\"Ridge\"],\n",
        "                      \"Error\":[\"MSE\", \"MAE\", \"R2\"],\n",
        "                      \"Mean\":meansArr,\n",
        "                      \"Std\":sdArr})"
      ]
    },
    {
      "cell_type": "markdown",
      "metadata": {
        "id": "T2jXi_qoZd5Q"
      },
      "source": [
        "## [5] Real-World Application - Energy"
      ]
    },
    {
      "cell_type": "markdown",
      "metadata": {
        "id": "7EZBxdWoOhGE"
      },
      "source": [
        "The Commercial Buildings Energy Consumption Survey (CBECS) provide building characteristics information for the estimated 5.9 million U.S. commercial buildings in 2012. Building characteristics data tables include number of workers, ownership and occupancy, structural characteristics, energy sources and uses, energy related building features, and more. For more informatoin, see\n",
        "- https://asu.pure.elsevier.com/en/publications/machine-learning-approaches-for-estimating-commercial-building-en\n"
      ]
    },
    {
      "cell_type": "markdown",
      "metadata": {
        "id": "9PgeJ9fN6Tnt"
      },
      "source": [
        "## Import Libraries"
      ]
    },
    {
      "cell_type": "code",
      "execution_count": null,
      "metadata": {
        "id": "RXUVVH_knYhH"
      },
      "outputs": [],
      "source": [
        "import pandas as pd    # pandas (for reading and handling data in dataframes)\n",
        "\n",
        "import numpy as np     # matrix/linear algebra library\n",
        "\n",
        "from scipy import stats # prob/stats library to get distribution information\n",
        "\n",
        "import os              # platform independent filesystem manipulations\n",
        "\n",
        "from collections import Counter\n",
        "\n",
        "from sklearn import model_selection, kernel_ridge, linear_model, metrics, feature_selection, preprocessing\n",
        "\n",
        "# plotting libraries\n",
        "import matplotlib\n",
        "import matplotlib.pyplot as plt\n",
        "plt.style.use('seaborn-paper')\n",
        "\n",
        "np.random.seed(6174)"
      ]
    },
    {
      "cell_type": "markdown",
      "metadata": {
        "id": "vHRId_hemhfC"
      },
      "source": [
        "## Download Data"
      ]
    },
    {
      "cell_type": "code",
      "execution_count": null,
      "metadata": {
        "id": "u91pEHwPl-sD"
      },
      "outputs": [],
      "source": [
        "# download data into data/cbecs in the current directory\n",
        "# run !ls data/cbecs to see the csv it downloaded\n",
        "!wget --directory-prefix=data/cbecs/ -Nq https://www.eia.gov/consumption/commercial/data/2012/xls/2012_public_use_data_aug2016.csv"
      ]
    },
    {
      "cell_type": "code",
      "execution_count": null,
      "metadata": {
        "id": "3HQcosvvnFxC"
      },
      "outputs": [],
      "source": [
        "# declare directory to write results and file to read data from\n",
        "CBECS_DATA_FN = \"data/cbecs/2012_public_use_data_aug2016.csv\""
      ]
    },
    {
      "cell_type": "code",
      "execution_count": null,
      "metadata": {
        "id": "ylVMhKNY4bd0"
      },
      "outputs": [],
      "source": [
        "def mkdir(path):\n",
        "    try: \n",
        "        os.makedirs(path)\n",
        "    except OSError:\n",
        "        if not os.path.isdir(path):\n",
        "            raise\n",
        "        else:\n",
        "            print(\"(%s) already exists\" % (path))\n",
        "\n",
        "mkdir(\"output/\")\n",
        "mkdir(\"output/trainedModels/\")"
      ]
    },
    {
      "cell_type": "markdown",
      "metadata": {
        "id": "WeNV5kB0vhd5"
      },
      "source": [
        "## Parse and Format Data"
      ]
    },
    {
      "cell_type": "markdown",
      "metadata": {
        "id": "rw7Stl_yvxx7"
      },
      "source": [
        "### Read dataframe from downloaded file\n",
        "This pandas code automatically parses csv. Try it out with datasets containing datetimes, it's pretty handy\n"
      ]
    },
    {
      "cell_type": "code",
      "execution_count": null,
      "metadata": {
        "id": "tK7gNbm9nn6R"
      },
      "outputs": [],
      "source": [
        "raw_df = pd.read_csv(CBECS_DATA_FN)"
      ]
    },
    {
      "cell_type": "code",
      "execution_count": null,
      "metadata": {
        "id": "-QXf9wotd8Pb"
      },
      "outputs": [],
      "source": [
        "raw_df.describe()"
      ]
    },
    {
      "cell_type": "markdown",
      "metadata": {
        "id": "ezW2wwaAv9iQ"
      },
      "source": [
        "### Select relevant columns\n",
        "Let's get the relevant feature and target columns from the data and store them into a list"
      ]
    },
    {
      "cell_type": "code",
      "execution_count": null,
      "metadata": {
        "id": "QxoT6D-7np75"
      },
      "outputs": [],
      "source": [
        "xIndices = []\n",
        "yIndices = []\n",
        "\n",
        "target_col = \"MFBTU\"\n",
        "feature_cols = []\n",
        "\n",
        "for col_ind, col_name in enumerate(raw_df.columns):\n",
        "    if col_name == \"MFBTU\":\n",
        "        yIndices.append(col_ind)\n",
        "    elif \"ZMFBTU\" in col_name:\n",
        "        xIndices.append(col_ind)\n",
        "        feature_cols.append(col_name)\n",
        "    elif col_name.startswith(\"Z\"): # checked, every feature that starts with a Z is an accessory variable that tells whether another variable was imputed, etc.\n",
        "        pass\n",
        "    elif col_name.startswith(\"FINALWT\"): # there is a finalwt feature for every other variable, these are unecessary\n",
        "        pass\n",
        "    elif col_ind >= 1051: # don't keep data after MFBTU\n",
        "        pass\n",
        "    else:\n",
        "        xIndices.append(col_ind)\n",
        "        feature_cols.append(col_name)\n",
        "raw_df = raw_df[[target_col] + feature_cols]\n",
        "print(raw_df.shape)"
      ]
    },
    {
      "cell_type": "code",
      "execution_count": null,
      "metadata": {
        "id": "hsuD0sMzrmAn"
      },
      "outputs": [],
      "source": [
        "col_to_check = \"ZMFBTU\"\n",
        "useful_rows = (raw_df[col_to_check] != 2) & (raw_df[col_to_check] != 9)\n",
        "raw_df = raw_df[useful_rows]"
      ]
    },
    {
      "cell_type": "code",
      "execution_count": null,
      "metadata": {
        "id": "Xoy-LmE8uas3"
      },
      "outputs": [],
      "source": [
        "# the floors variables takes some very high values\n",
        "# let's set these to 20 and 30 floors respectively\n",
        "# alternatively we could consider a quantile scaler\n",
        "# note that here we are changing the data!\n",
        "# you can check that the above cell returns a different value now\n",
        "raw_df[raw_df[\"NFLOOR\"] == 994][\"NFLOOR\"] = 20\n",
        "raw_df[raw_df[\"NFLOOR\"] == 995][\"NFLOOR\"] = 30"
      ]
    },
    {
      "cell_type": "markdown",
      "metadata": {
        "id": "pQUlCu20wd4z"
      },
      "source": [
        "### Eliminate Features with > 25% missing data"
      ]
    },
    {
      "cell_type": "code",
      "execution_count": null,
      "metadata": {
        "id": "zV0iTySDf_95"
      },
      "outputs": [],
      "source": [
        "raw_df.isna().sum()"
      ]
    },
    {
      "cell_type": "code",
      "execution_count": null,
      "metadata": {
        "id": "zB5J8YgVwiEe"
      },
      "outputs": [],
      "source": [
        "bad_col_inds = (raw_df.isna().sum() / raw_df.shape[0]) > 0.25\n",
        "raw_df = raw_df[raw_df.columns[~bad_col_inds]]"
      ]
    },
    {
      "cell_type": "markdown",
      "metadata": {
        "id": "sxNIx9ORyNqY"
      },
      "source": [
        "### Replace missing values with most frequently occuring value"
      ]
    },
    {
      "cell_type": "code",
      "execution_count": null,
      "metadata": {
        "id": "v7IZiOjxySCF"
      },
      "outputs": [],
      "source": [
        "# taken from raw_df.mode? (asked for help of mode, not a question)\n",
        "raw_df.fillna(raw_df.mode().iloc[0], inplace=True)"
      ]
    },
    {
      "cell_type": "markdown",
      "metadata": {
        "id": "dnY_GizX2vl3"
      },
      "source": [
        "### Read data values into matrices X, and Y"
      ]
    },
    {
      "cell_type": "code",
      "execution_count": null,
      "metadata": {
        "id": "zxyZZu5QntW5"
      },
      "outputs": [],
      "source": [
        "# take X and Y from the useful rows in the corresponding columns\n",
        "X = raw_df[raw_df.columns[raw_df.columns != target_col]].values\n",
        "Y = raw_df[target_col].values\n",
        "# let's print out some summary info of X and y\n",
        "print(\"features shape:\", X.shape)\n",
        "print(\"target shape:\", Y.shape)"
      ]
    },
    {
      "cell_type": "markdown",
      "metadata": {
        "id": "01mJOcR432Rh"
      },
      "source": [
        "### Save pre-processed dataset"
      ]
    },
    {
      "cell_type": "code",
      "execution_count": null,
      "metadata": {
        "id": "lnlFia4o1_lj"
      },
      "outputs": [],
      "source": [
        "# print(X.shape)\n",
        "# print(Y.shape)\n",
        "feature_columns = np.array(raw_df.columns[raw_df.columns != target_col])\n",
        "# print(feature_columns.shape)\n",
        "\n",
        "np.save(\"output/cbecs_X_MFBTU.npy\", X)\n",
        "np.save(\"output/cbecs_Y_MFBTU.npy\", Y)\n",
        "np.save(\"output/cbecs_headers_MFBTU.npy\", feature_columns)\n",
        "\n",
        "numberOfSamples = X.shape[0]\n",
        "numberOfFeatures = X.shape[1]"
      ]
    },
    {
      "cell_type": "markdown",
      "metadata": {
        "id": "jplgx0Xt5ODL"
      },
      "source": [
        "### Create reduced feature set"
      ]
    },
    {
      "cell_type": "code",
      "execution_count": null,
      "metadata": {
        "id": "-YXX7QkV35yE"
      },
      "outputs": [],
      "source": [
        "'''\n",
        "\n",
        "\"PBA\": Principal building activity\n",
        "\"SQFT\": Square footage\n",
        "\"CDD65\": Cooling degree days (base 65)\n",
        "\"HDD65\": Heating degree days (base 65)\n",
        "\"NFLOOR\": Number of floors\n",
        "\n",
        "'''\n",
        "\n",
        "# keeping feature\n",
        "columnsToKeep = np.array([\"PBA\", \"SQFT\", \"CDD65\", \"HDD65\", \"NFLOOR\"])\n",
        "\n",
        "newX = raw_df[columnsToKeep]\n",
        "newY = raw_df[target_col]\n",
        "\n",
        "# print(newX.shape)\n",
        "# print(newY.shape)\n",
        "# print(columnsToKeep.shape)\n",
        "\n",
        "np.save(\"output/cbecs_reduced_X_MFBTU.npy\", newX)\n",
        "np.save(\"output/cbecs_reduced_Y_MFBTU.npy\", newY)\n",
        "np.save(\"output/cbecs_reduced_headers_MFBTU.npy\", columnsToKeep)"
      ]
    },
    {
      "cell_type": "markdown",
      "metadata": {
        "id": "Rd7IZ1oQGwlZ"
      },
      "source": [
        "## Model Fitting"
      ]
    },
    {
      "cell_type": "markdown",
      "metadata": {
        "id": "B3tK8XjhIUc6"
      },
      "source": [
        "### Helper Functions"
      ]
    },
    {
      "cell_type": "code",
      "execution_count": null,
      "metadata": {
        "id": "WOFXOCG8IXq9"
      },
      "outputs": [],
      "source": [
        "\n",
        "pbaLabels = {\n",
        "    1  : 'Vacant',\n",
        "    2  : 'Administrative/professional office',\n",
        "    3  : 'Bank/other financial',\n",
        "    4  : 'Government office',\n",
        "    5  : 'Medical office (non-diagnostic)',\n",
        "    6  : 'Mixed-use office',\n",
        "    7  : 'Other office',\n",
        "    8  : 'Laboratory',\n",
        "    9  : 'Distribution/shipping center',\n",
        "    10 : 'Non-refrigerated warehouse',\n",
        "    11 : 'Self-storage',\n",
        "    12 : 'Convenience store',\n",
        "    13 : 'Convenience store with gas station',\n",
        "    14 : 'Grocery store/food market',\n",
        "    15 : 'Other food sales',\n",
        "    16 : 'Fire station/police station',\n",
        "    17 : 'Other public order and safety',\n",
        "    18 : 'Medical office (diagnostic)',\n",
        "    19 : 'Clinic/other outpatient health',\n",
        "    20 : 'Refrigerated warehouse',\n",
        "    21 : 'Religious worship',\n",
        "    22 : 'Entertainment/culture',\n",
        "    23 : 'Library',\n",
        "    24 : 'Recreation',\n",
        "    25 : 'Social/meeting',\n",
        "    26 : 'Other public assembly',\n",
        "    27 : 'College/university',\n",
        "    28 : 'Elementary/middle school',\n",
        "    29 : 'High school',\n",
        "    30 : 'Preschool/daycare',\n",
        "    31 : 'Other classroom education',\n",
        "    32 : 'Fast food',\n",
        "    33 : 'Restaurant/cafeteria',\n",
        "    34 : 'Other food service',\n",
        "    35 : 'Hospital/inpatient health',\n",
        "    36 : 'Nursing home/assisted living',\n",
        "    37 : 'Dormitory/fraternity/sorority',\n",
        "    38 : 'Hotel',\n",
        "    39 : 'Motel or inn',\n",
        "    40 : 'Other lodging',\n",
        "    41 : 'Vehicle dealership/showroom',\n",
        "    42 : 'Retail store',\n",
        "    43 : 'Other retail',\n",
        "    44 : 'Post office/postal center',\n",
        "    45 : 'Repair shop',\n",
        "    46 : 'Vehicle service/repair shop',\n",
        "    47 : 'Vehicle storage/maintenance',\n",
        "    48 : 'Other service',\n",
        "    49 : 'Other',\n",
        "    50 : 'Strip shopping mall',\n",
        "    51 : 'Enclosed mall',\n",
        "    52 : 'Courthouse/probation office',\n",
        "    53 : 'Bar/pub/lounge',\n",
        "    91 : 'Other'\n",
        "}\n",
        "\n",
        "def to_categorical(y, nb_classes=None):\n",
        "\n",
        "    '''\n",
        "    \n",
        "    Convert class vector (integers from 0 to nb_classes) to binary class matrix, for use with categorical_crossentropy.\n",
        "\n",
        "    # Arguments\n",
        "        y: class vector to be converted into a matrix\n",
        "        nb_classes: total number of classes\n",
        "\n",
        "    # Returns\n",
        "        A binary matrix representation of the input.\n",
        "    \n",
        "    '''\n",
        "    y = np.array(y, dtype='int')\n",
        "    if not nb_classes:\n",
        "        nb_classes = np.max(y)+1\n",
        "    Y = np.zeros((len(y), nb_classes))\n",
        "    for i in range(len(y)):\n",
        "        Y[i, y[i]] = 1.\n",
        "    return Y\n",
        "\n",
        "def doOneHot(classVals,uniqueVals=None,returnNames=False):\n",
        "\n",
        "    oneHotClasses = classVals.copy()\n",
        "\n",
        "    if uniqueVals is None:\n",
        "        uniqueVals = sorted(list(set(classVals)))\n",
        "\n",
        "    uniqueValsMap = {val:i for i,val in enumerate(uniqueVals)}\n",
        "    for i in range(oneHotClasses.shape[0]):\n",
        "        oneHotClasses[i] = uniqueValsMap[oneHotClasses[i]]\n",
        "    oneHotClasses = to_categorical(oneHotClasses)\n",
        "    \n",
        "    if returnNames:\n",
        "        return oneHotClasses, uniqueVals\n",
        "    else:\n",
        "        return oneHotClasses\n",
        "\n",
        "def getDataset(datasetType=0,pbaOneHot=True):\n",
        "    X,Y,columnNames = None,None,None\n",
        "\n",
        "    if datasetType == 0: # all features\n",
        "        X = np.load(\"output/cbecs_X_MFBTU.npy\")\n",
        "        Y = np.load(\"output/cbecs_Y_MFBTU.npy\")\n",
        "        columnNames = np.load(\"output/cbecs_headers_MFBTU.npy\", allow_pickle=True)\n",
        "    elif datasetType == 1:\n",
        "        X = np.load(\"output/cbecs_reduced_X_MFBTU.npy\")\n",
        "        Y = np.load(\"output/cbecs_reduced_Y_MFBTU.npy\")\n",
        "        columnNames = np.load(\"output/cbecs_reduced_headers_MFBTU.npy\")\n",
        "    else:\n",
        "        raise ValueError(\"Invalid datasetType\")\n",
        "\n",
        "    classVals = X[:,columnNames==\"PBA\"].copy().flatten()\n",
        "\n",
        "    excludedColumnNames = [\"PUBID\",\"PBA\",\"PBAPLUS\",\"REGION\",\"CENDIV\"]\n",
        "    excludedMask = (columnNames!=excludedColumnNames[0])\n",
        "    for i in range(1,len(excludedColumnNames)):\n",
        "        excludedMask = excludedMask & (columnNames!=excludedColumnNames[i])\n",
        "\n",
        "    X = X[:,excludedMask]\n",
        "    columnNames = columnNames[excludedMask]\n",
        "\n",
        "    # do a 1-hot encoding of the PBA column and add the features to X\n",
        "    if pbaOneHot:\n",
        "        oneHotClasses,uniqueVals = doOneHot(classVals.copy(),returnNames=True)\n",
        "        X = np.hstack([X,oneHotClasses])\n",
        "\n",
        "        oneHotNames = []\n",
        "        for val in uniqueVals:\n",
        "            oneHotNames.append(\"PBA %s\" % (pbaLabels[val]))\n",
        "        columnNames = np.hstack([columnNames,oneHotNames])\n",
        "    scaler = preprocessing.StandardScaler()\n",
        "    X = scaler.fit_transform(X)\n",
        "\n",
        "    return X,Y,columnNames,classVals"
      ]
    },
    {
      "cell_type": "markdown",
      "metadata": {
        "id": "fCWc7KRpMmZ8"
      },
      "source": [
        "# Model prediction on energy data - Ridge, Lasso regression used here!"
      ]
    },
    {
      "cell_type": "code",
      "execution_count": null,
      "metadata": {
        "id": "HaeSY4FQRgKV"
      },
      "outputs": [],
      "source": [
        "X,Y,columnNames,classVals = getDataset(0,pbaOneHot=True)"
      ]
    },
    {
      "cell_type": "code",
      "execution_count": null,
      "metadata": {
        "colab": {
          "base_uri": "https://localhost:8080/",
          "height": 237
        },
        "id": "D9jxZOL8HXLu",
        "outputId": "3d97f8c2-4908-4ced-dac2-ef9f9fd74970"
      },
      "outputs": [
        {
          "data": {
            "text/html": [
              "\n",
              "  <div id=\"df-e04048ca-3f42-4a51-93ee-d5ae19562d83\">\n",
              "    <div class=\"colab-df-container\">\n",
              "      <div>\n",
              "<style scoped>\n",
              "    .dataframe tbody tr th:only-of-type {\n",
              "        vertical-align: middle;\n",
              "    }\n",
              "\n",
              "    .dataframe tbody tr th {\n",
              "        vertical-align: top;\n",
              "    }\n",
              "\n",
              "    .dataframe thead th {\n",
              "        text-align: right;\n",
              "    }\n",
              "</style>\n",
              "<table border=\"1\" class=\"dataframe\">\n",
              "  <thead>\n",
              "    <tr style=\"text-align: right;\">\n",
              "      <th></th>\n",
              "      <th>Model</th>\n",
              "      <th>Error</th>\n",
              "      <th>Mean</th>\n",
              "      <th>Std</th>\n",
              "    </tr>\n",
              "  </thead>\n",
              "  <tbody>\n",
              "    <tr>\n",
              "      <th>0</th>\n",
              "      <td>Ridge</td>\n",
              "      <td>MSE</td>\n",
              "      <td>0</td>\n",
              "      <td>0</td>\n",
              "    </tr>\n",
              "    <tr>\n",
              "      <th>1</th>\n",
              "      <td>Lasso</td>\n",
              "      <td>MSE</td>\n",
              "      <td>0</td>\n",
              "      <td>0</td>\n",
              "    </tr>\n",
              "    <tr>\n",
              "      <th>2</th>\n",
              "      <td>Ridge</td>\n",
              "      <td>MAE</td>\n",
              "      <td>0</td>\n",
              "      <td>0</td>\n",
              "    </tr>\n",
              "    <tr>\n",
              "      <th>3</th>\n",
              "      <td>Lasso</td>\n",
              "      <td>MAE</td>\n",
              "      <td>0</td>\n",
              "      <td>0</td>\n",
              "    </tr>\n",
              "    <tr>\n",
              "      <th>4</th>\n",
              "      <td>Ridge</td>\n",
              "      <td>R2</td>\n",
              "      <td>0</td>\n",
              "      <td>0</td>\n",
              "    </tr>\n",
              "    <tr>\n",
              "      <th>5</th>\n",
              "      <td>Lasso</td>\n",
              "      <td>R2</td>\n",
              "      <td>0</td>\n",
              "      <td>0</td>\n",
              "    </tr>\n",
              "  </tbody>\n",
              "</table>\n",
              "</div>\n",
              "      <button class=\"colab-df-convert\" onclick=\"convertToInteractive('df-e04048ca-3f42-4a51-93ee-d5ae19562d83')\"\n",
              "              title=\"Convert this dataframe to an interactive table.\"\n",
              "              style=\"display:none;\">\n",
              "        \n",
              "  <svg xmlns=\"http://www.w3.org/2000/svg\" height=\"24px\"viewBox=\"0 0 24 24\"\n",
              "       width=\"24px\">\n",
              "    <path d=\"M0 0h24v24H0V0z\" fill=\"none\"/>\n",
              "    <path d=\"M18.56 5.44l.94 2.06.94-2.06 2.06-.94-2.06-.94-.94-2.06-.94 2.06-2.06.94zm-11 1L8.5 8.5l.94-2.06 2.06-.94-2.06-.94L8.5 2.5l-.94 2.06-2.06.94zm10 10l.94 2.06.94-2.06 2.06-.94-2.06-.94-.94-2.06-.94 2.06-2.06.94z\"/><path d=\"M17.41 7.96l-1.37-1.37c-.4-.4-.92-.59-1.43-.59-.52 0-1.04.2-1.43.59L10.3 9.45l-7.72 7.72c-.78.78-.78 2.05 0 2.83L4 21.41c.39.39.9.59 1.41.59.51 0 1.02-.2 1.41-.59l7.78-7.78 2.81-2.81c.8-.78.8-2.07 0-2.86zM5.41 20L4 18.59l7.72-7.72 1.47 1.35L5.41 20z\"/>\n",
              "  </svg>\n",
              "      </button>\n",
              "      \n",
              "  <style>\n",
              "    .colab-df-container {\n",
              "      display:flex;\n",
              "      flex-wrap:wrap;\n",
              "      gap: 12px;\n",
              "    }\n",
              "\n",
              "    .colab-df-convert {\n",
              "      background-color: #E8F0FE;\n",
              "      border: none;\n",
              "      border-radius: 50%;\n",
              "      cursor: pointer;\n",
              "      display: none;\n",
              "      fill: #1967D2;\n",
              "      height: 32px;\n",
              "      padding: 0 0 0 0;\n",
              "      width: 32px;\n",
              "    }\n",
              "\n",
              "    .colab-df-convert:hover {\n",
              "      background-color: #E2EBFA;\n",
              "      box-shadow: 0px 1px 2px rgba(60, 64, 67, 0.3), 0px 1px 3px 1px rgba(60, 64, 67, 0.15);\n",
              "      fill: #174EA6;\n",
              "    }\n",
              "\n",
              "    [theme=dark] .colab-df-convert {\n",
              "      background-color: #3B4455;\n",
              "      fill: #D2E3FC;\n",
              "    }\n",
              "\n",
              "    [theme=dark] .colab-df-convert:hover {\n",
              "      background-color: #434B5C;\n",
              "      box-shadow: 0px 1px 3px 1px rgba(0, 0, 0, 0.15);\n",
              "      filter: drop-shadow(0px 1px 2px rgba(0, 0, 0, 0.3));\n",
              "      fill: #FFFFFF;\n",
              "    }\n",
              "  </style>\n",
              "\n",
              "      <script>\n",
              "        const buttonEl =\n",
              "          document.querySelector('#df-e04048ca-3f42-4a51-93ee-d5ae19562d83 button.colab-df-convert');\n",
              "        buttonEl.style.display =\n",
              "          google.colab.kernel.accessAllowed ? 'block' : 'none';\n",
              "\n",
              "        async function convertToInteractive(key) {\n",
              "          const element = document.querySelector('#df-e04048ca-3f42-4a51-93ee-d5ae19562d83');\n",
              "          const dataTable =\n",
              "            await google.colab.kernel.invokeFunction('convertToInteractive',\n",
              "                                                     [key], {});\n",
              "          if (!dataTable) return;\n",
              "\n",
              "          const docLinkHtml = 'Like what you see? Visit the ' +\n",
              "            '<a target=\"_blank\" href=https://colab.research.google.com/notebooks/data_table.ipynb>data table notebook</a>'\n",
              "            + ' to learn more about interactive tables.';\n",
              "          element.innerHTML = '';\n",
              "          dataTable['output_type'] = 'display_data';\n",
              "          await google.colab.output.renderOutput(dataTable, element);\n",
              "          const docLink = document.createElement('div');\n",
              "          docLink.innerHTML = docLinkHtml;\n",
              "          element.appendChild(docLink);\n",
              "        }\n",
              "      </script>\n",
              "    </div>\n",
              "  </div>\n",
              "  "
            ],
            "text/plain": [
              "   Model Error  Mean  Std\n",
              "0  Ridge   MSE     0    0\n",
              "1  Lasso   MSE     0    0\n",
              "2  Ridge   MAE     0    0\n",
              "3  Lasso   MAE     0    0\n",
              "4  Ridge    R2     0    0\n",
              "5  Lasso    R2     0    0"
            ]
          },
          "execution_count": 6,
          "metadata": {},
          "output_type": "execute_result"
        }
      ],
      "source": [
        "\n",
        "'''\n",
        "\n",
        "Import Ridge regression and Lasso regression from sklearn \n",
        "https://scikit-learn.org/stable/modules/classes.html#module-sklearn.linear_model\n",
        "\n",
        "Run 5-fold cross-validation, Ridge regression model on the data\n",
        "  - Show average error for mean squared error, mean absolute error, r2 score ( a list of 3 values)\n",
        "  - Show standard deviation over the K folds for the same 3 metrics (a list of 3 values)\n",
        "  - Put these statistics in a pandas dataframe\n",
        "\n",
        "Run 5-fold cross-validation, Lasso regression model on the data\n",
        "  - Show average error for mean squared error, mean absolute error, r2 score ( a list of 3 values)\n",
        "  - Show standard deviation over the K folds for the same 3 metrics (a list of 3 values)\n",
        "  - Put these statistics in a pandas dataframe\n",
        "\n",
        "Concatenate the two pandas dataframes\n",
        "Print out the results\n",
        "\n",
        "'''\n",
        "\n",
        "# -------------------------------------------------------------------------\n",
        "# IMPLEMENT - 1 Point\n",
        "# -------------------------------------------------------------------------\n",
        "from sklearn.linear_model import Ridge\n",
        "from sklearn.linear_model import Lasso\n",
        "from sklearn import metrics\n",
        "\n",
        "metrics = [mean_squared_error, metrics.mean_absolute_error, metrics.r2_score]\n",
        "modelRaw = linear_model.RidgeCV()\n",
        "modelRawAlt = linear_model.LassoCV()\n",
        "model = modelRaw.fit(X, Y)\n",
        "modelAlt = modelRawAlt.fit(X, Y)\n",
        "k=50\n",
        "\n",
        "cvMetrics = cross_validate(model, X, Y, k, metrics)\n",
        "cvMetricsAlt = cross_validate(modelAlt, X, Y, k, metrics)\n",
        "meansArr = np.mean(cvMetrics, axis = 1)\n",
        "sdArr = np.std(cvMetrics, axis=1)\n",
        "meansArrAlt = np.mean(cvMetricsAlt, axis = 1)\n",
        "sdArrAlt = np.std(cvMetricsAlt, axis=1)\n",
        "#to be inserted to pd.DataFrame\n",
        "\n",
        "ridgedf = pd.DataFrame({\"Model\":[\"Ridge\",\"Ridge\",\"Ridge\"],\n",
        "                      \"Error\":[\"MSE\", \"MAE\", \"R2\"],\n",
        "                      \"Mean\":meansArr,\n",
        "                      \"Std\":sdArr})\n",
        "lassodf = pd.DataFrame({\"Model\":[\"Lasso\",\"Lasso\",\"Lasso\"],\n",
        "                      \"Error\":[\"MSE\", \"MAE\", \"R2\"],\n",
        "                      \"Mean\":meansArrAlt,\n",
        "                      \"Std\":sdArrAlt})\n",
        "\n",
        "frames = [ridgedf, lassodf]\n",
        "\n",
        "result = pd.concat(frames)\n",
        "print(result)"
      ]
    },
    {
      "cell_type": "code",
      "execution_count": null,
      "metadata": {
        "id": "-Z8lXCYbV9rT"
      },
      "outputs": [],
      "source": [
        "'''\n",
        "\n",
        "Q: Which model is better?\n",
        "\n",
        "'''\n",
        "\n",
        "# -------------------------------------------------------------------------\n",
        "# QUESTION - 1 Point\n",
        "# -------------------------------------------------------------------------\n",
        "\n",
        "# Your answer."
      ]
    },
    {
      "cell_type": "markdown",
      "metadata": {
        "id": "8gZOnMJE6BJ7"
      },
      "source": [
        "##  [6] Real-World Application - Ocean (MS Student Only)"
      ]
    },
    {
      "cell_type": "markdown",
      "metadata": {
        "id": "VQGdnlvd72My"
      },
      "source": [
        "The CalCOFI dataset contains hydrographic data from 1949 to present. (https://www.kaggle.com/datasets/sohier/calcofi). \n",
        "\n",
        "Ocean.csv is generated by filtering CalCOFI dataset – bottle.csv from kaggle describing a set of features/measurements at different ocean measurement stations (only one point in time), we filtered down to only (1) water temperature; (2) depth; (3) specific chemicals; and removed data records/stations (4) missing data. "
      ]
    },
    {
      "cell_type": "code",
      "execution_count": null,
      "metadata": {
        "id": "GcJE1Q2z743Q"
      },
      "outputs": [],
      "source": [
        "!wget -Nq https://raw.githubusercontent.com/csci461/dataset/main/ocean.csv"
      ]
    },
    {
      "cell_type": "code",
      "execution_count": null,
      "metadata": {
        "id": "1rfNmMka_aI_"
      },
      "outputs": [],
      "source": [
        "from sklearn.model_selection import KFold\n",
        "from sklearn.linear_model import LinearRegression\n",
        "from sklearn.metrics import r2_score\n",
        "from sklearn.metrics import mean_squared_error\n",
        "from sklearn.metrics import mean_absolute_error\n",
        "import seaborn as sns\n",
        "import matplotlib.pyplot as plt"
      ]
    },
    {
      "cell_type": "code",
      "execution_count": null,
      "metadata": {
        "id": "lCvBgHEg_PSr"
      },
      "outputs": [],
      "source": [
        "df = pd.read_csv(\"ocean.csv\")\n",
        "df.head()"
      ]
    },
    {
      "cell_type": "code",
      "execution_count": null,
      "metadata": {
        "id": "1T5EWRkCANid"
      },
      "outputs": [],
      "source": [
        "'''\n",
        "\n",
        "Feature Description\n",
        "\n",
        "\"Depthm\": Bottle depth in meters\n",
        "\"T_degC\": Water temperature in degrees Celsius\n",
        "\"Salnty\": Salinity (Practical Salinity Scale 1978)\n",
        "\"O2ml_L\": Milliliters oxygen per liter of seawater\n",
        "\"ChlorA\": Migrograms Chlorophyll-a per liter seawater, measured fluorometrically\n",
        "\"Phaeop\": Micrograms Phaeopigment per liter seawater, measured fluormetrically\n",
        "\"PO4uM\": Micromoles Phosphate per liter of seawater\n",
        "\"SiO3uM\": Micromoles Silicate per liter of seawater\n",
        "\"NO2uM\": Micromoles Nitrite per liter of seawater\n",
        "\"NO3uM\": Micromoles Nitrate per liter of seawater\n",
        "\"NH3uM\": Micromoles Ammonia per liter of seawater\n",
        "\n",
        "'''"
      ]
    },
    {
      "cell_type": "code",
      "execution_count": null,
      "metadata": {
        "id": "Ao8PLPK9_qaB"
      },
      "outputs": [],
      "source": [
        "feature_list = [\"Depthm\",\"Salnty\",\"O2ml_L\",\"ChlorA\",\"Phaeop\",\"PO4uM\",\"SiO3uM\",\"NO2uM\",\"NO3uM\",\"NH3uM\"]\n",
        "target_variable = [\"T_degC\"]"
      ]
    },
    {
      "cell_type": "code",
      "execution_count": null,
      "metadata": {
        "id": "ZMcRhQXy_dPB"
      },
      "outputs": [],
      "source": [
        "'''\n",
        "\n",
        "Use sklearn KFold, LinearRegression\n",
        "\n",
        "Run 10-fold cross-validation, linear regression model on the ocean data\n",
        "  - Use sklearn r2_score, mean_squared_error, mean_absolute_error\n",
        "  - Show average error over K folds for mean squared error, mean absolute error, r2 score ( a list of 3 values)\n",
        "  - Show standard deviation over the K folds for the same 3 metrics (a list of 3 values)\n",
        "  - Put these statistics in a pandas dataframe\n",
        "  - Show a predicted Y vs true Y scatter plot\n",
        "\n",
        "'''\n",
        "\n",
        "# -------------------------------------------------------------------------\n",
        "# IMPLEMENT - 1 Point\n",
        "# -------------------------------------------------------------------------\n"
      ]
    },
    {
      "cell_type": "code",
      "execution_count": null,
      "metadata": {
        "id": "S8XLQ_u-BiRO"
      },
      "outputs": [],
      "source": [
        "'''\n",
        "\n",
        "Q: Do linear regression model performs worse at predicting low or high water temperature\n",
        "   (in degrees Celsius) based on the scatter plot?\n",
        "\n",
        "'''\n",
        "\n",
        "# -------------------------------------------------------------------------\n",
        "# QUESTION - 1 Point\n",
        "# -------------------------------------------------------------------------\n",
        "\n",
        "# Your answer."
      ]
    },
    {
      "cell_type": "markdown",
      "metadata": {
        "id": "7sqCpqm-quNN"
      },
      "source": [
        "##Hyperparameter Tuning"
      ]
    },
    {
      "cell_type": "code",
      "execution_count": null,
      "metadata": {
        "colab": {
          "base_uri": "https://localhost:8080/",
          "height": 614
        },
        "id": "loYVYcUZWGLO",
        "outputId": "b70dc9ba-fdbd-4f63-8d74-ba3f5596b07d"
      },
      "outputs": [
        {
          "data": {
            "text/html": [
              "\n",
              "  <div id=\"df-a9f77f38-edd2-49c1-9849-969207d21cd6\">\n",
              "    <div class=\"colab-df-container\">\n",
              "      <div>\n",
              "<style scoped>\n",
              "    .dataframe tbody tr th:only-of-type {\n",
              "        vertical-align: middle;\n",
              "    }\n",
              "\n",
              "    .dataframe tbody tr th {\n",
              "        vertical-align: top;\n",
              "    }\n",
              "\n",
              "    .dataframe thead th {\n",
              "        text-align: right;\n",
              "    }\n",
              "</style>\n",
              "<table border=\"1\" class=\"dataframe\">\n",
              "  <thead>\n",
              "    <tr style=\"text-align: right;\">\n",
              "      <th></th>\n",
              "      <th>Model</th>\n",
              "      <th>Alpha</th>\n",
              "      <th>Error</th>\n",
              "      <th>Value</th>\n",
              "    </tr>\n",
              "  </thead>\n",
              "  <tbody>\n",
              "    <tr>\n",
              "      <th>0</th>\n",
              "      <td>Lasso</td>\n",
              "      <td>0.1</td>\n",
              "      <td>MAE</td>\n",
              "      <td>0</td>\n",
              "    </tr>\n",
              "    <tr>\n",
              "      <th>1</th>\n",
              "      <td>Lasso</td>\n",
              "      <td>0.5</td>\n",
              "      <td>MAE</td>\n",
              "      <td>0</td>\n",
              "    </tr>\n",
              "    <tr>\n",
              "      <th>2</th>\n",
              "      <td>Lasso</td>\n",
              "      <td>1.0</td>\n",
              "      <td>MAE</td>\n",
              "      <td>0</td>\n",
              "    </tr>\n",
              "    <tr>\n",
              "      <th>3</th>\n",
              "      <td>Lasso</td>\n",
              "      <td>5.0</td>\n",
              "      <td>MAE</td>\n",
              "      <td>0</td>\n",
              "    </tr>\n",
              "    <tr>\n",
              "      <th>4</th>\n",
              "      <td>Lasso</td>\n",
              "      <td>10.0</td>\n",
              "      <td>MAE</td>\n",
              "      <td>0</td>\n",
              "    </tr>\n",
              "    <tr>\n",
              "      <th>5</th>\n",
              "      <td>Lasso</td>\n",
              "      <td>20.0</td>\n",
              "      <td>MAE</td>\n",
              "      <td>0</td>\n",
              "    </tr>\n",
              "    <tr>\n",
              "      <th>6</th>\n",
              "      <td>Lasso</td>\n",
              "      <td>0.1</td>\n",
              "      <td>MSE</td>\n",
              "      <td>0</td>\n",
              "    </tr>\n",
              "    <tr>\n",
              "      <th>7</th>\n",
              "      <td>Lasso</td>\n",
              "      <td>0.5</td>\n",
              "      <td>MSE</td>\n",
              "      <td>0</td>\n",
              "    </tr>\n",
              "    <tr>\n",
              "      <th>8</th>\n",
              "      <td>Lasso</td>\n",
              "      <td>1.0</td>\n",
              "      <td>MSE</td>\n",
              "      <td>0</td>\n",
              "    </tr>\n",
              "    <tr>\n",
              "      <th>9</th>\n",
              "      <td>Lasso</td>\n",
              "      <td>5.0</td>\n",
              "      <td>MSE</td>\n",
              "      <td>0</td>\n",
              "    </tr>\n",
              "    <tr>\n",
              "      <th>10</th>\n",
              "      <td>Lasso</td>\n",
              "      <td>10.0</td>\n",
              "      <td>MSE</td>\n",
              "      <td>0</td>\n",
              "    </tr>\n",
              "    <tr>\n",
              "      <th>11</th>\n",
              "      <td>Lasso</td>\n",
              "      <td>20.0</td>\n",
              "      <td>MSE</td>\n",
              "      <td>0</td>\n",
              "    </tr>\n",
              "    <tr>\n",
              "      <th>12</th>\n",
              "      <td>Lasso</td>\n",
              "      <td>0.1</td>\n",
              "      <td>R2</td>\n",
              "      <td>0</td>\n",
              "    </tr>\n",
              "    <tr>\n",
              "      <th>13</th>\n",
              "      <td>Lasso</td>\n",
              "      <td>0.5</td>\n",
              "      <td>R2</td>\n",
              "      <td>0</td>\n",
              "    </tr>\n",
              "    <tr>\n",
              "      <th>14</th>\n",
              "      <td>Lasso</td>\n",
              "      <td>1.0</td>\n",
              "      <td>R2</td>\n",
              "      <td>0</td>\n",
              "    </tr>\n",
              "    <tr>\n",
              "      <th>15</th>\n",
              "      <td>Lasso</td>\n",
              "      <td>5.0</td>\n",
              "      <td>R2</td>\n",
              "      <td>0</td>\n",
              "    </tr>\n",
              "    <tr>\n",
              "      <th>16</th>\n",
              "      <td>Lasso</td>\n",
              "      <td>10.0</td>\n",
              "      <td>R2</td>\n",
              "      <td>0</td>\n",
              "    </tr>\n",
              "    <tr>\n",
              "      <th>17</th>\n",
              "      <td>Lasso</td>\n",
              "      <td>20.0</td>\n",
              "      <td>R2</td>\n",
              "      <td>0</td>\n",
              "    </tr>\n",
              "  </tbody>\n",
              "</table>\n",
              "</div>\n",
              "      <button class=\"colab-df-convert\" onclick=\"convertToInteractive('df-a9f77f38-edd2-49c1-9849-969207d21cd6')\"\n",
              "              title=\"Convert this dataframe to an interactive table.\"\n",
              "              style=\"display:none;\">\n",
              "        \n",
              "  <svg xmlns=\"http://www.w3.org/2000/svg\" height=\"24px\"viewBox=\"0 0 24 24\"\n",
              "       width=\"24px\">\n",
              "    <path d=\"M0 0h24v24H0V0z\" fill=\"none\"/>\n",
              "    <path d=\"M18.56 5.44l.94 2.06.94-2.06 2.06-.94-2.06-.94-.94-2.06-.94 2.06-2.06.94zm-11 1L8.5 8.5l.94-2.06 2.06-.94-2.06-.94L8.5 2.5l-.94 2.06-2.06.94zm10 10l.94 2.06.94-2.06 2.06-.94-2.06-.94-.94-2.06-.94 2.06-2.06.94z\"/><path d=\"M17.41 7.96l-1.37-1.37c-.4-.4-.92-.59-1.43-.59-.52 0-1.04.2-1.43.59L10.3 9.45l-7.72 7.72c-.78.78-.78 2.05 0 2.83L4 21.41c.39.39.9.59 1.41.59.51 0 1.02-.2 1.41-.59l7.78-7.78 2.81-2.81c.8-.78.8-2.07 0-2.86zM5.41 20L4 18.59l7.72-7.72 1.47 1.35L5.41 20z\"/>\n",
              "  </svg>\n",
              "      </button>\n",
              "      \n",
              "  <style>\n",
              "    .colab-df-container {\n",
              "      display:flex;\n",
              "      flex-wrap:wrap;\n",
              "      gap: 12px;\n",
              "    }\n",
              "\n",
              "    .colab-df-convert {\n",
              "      background-color: #E8F0FE;\n",
              "      border: none;\n",
              "      border-radius: 50%;\n",
              "      cursor: pointer;\n",
              "      display: none;\n",
              "      fill: #1967D2;\n",
              "      height: 32px;\n",
              "      padding: 0 0 0 0;\n",
              "      width: 32px;\n",
              "    }\n",
              "\n",
              "    .colab-df-convert:hover {\n",
              "      background-color: #E2EBFA;\n",
              "      box-shadow: 0px 1px 2px rgba(60, 64, 67, 0.3), 0px 1px 3px 1px rgba(60, 64, 67, 0.15);\n",
              "      fill: #174EA6;\n",
              "    }\n",
              "\n",
              "    [theme=dark] .colab-df-convert {\n",
              "      background-color: #3B4455;\n",
              "      fill: #D2E3FC;\n",
              "    }\n",
              "\n",
              "    [theme=dark] .colab-df-convert:hover {\n",
              "      background-color: #434B5C;\n",
              "      box-shadow: 0px 1px 3px 1px rgba(0, 0, 0, 0.15);\n",
              "      filter: drop-shadow(0px 1px 2px rgba(0, 0, 0, 0.3));\n",
              "      fill: #FFFFFF;\n",
              "    }\n",
              "  </style>\n",
              "\n",
              "      <script>\n",
              "        const buttonEl =\n",
              "          document.querySelector('#df-a9f77f38-edd2-49c1-9849-969207d21cd6 button.colab-df-convert');\n",
              "        buttonEl.style.display =\n",
              "          google.colab.kernel.accessAllowed ? 'block' : 'none';\n",
              "\n",
              "        async function convertToInteractive(key) {\n",
              "          const element = document.querySelector('#df-a9f77f38-edd2-49c1-9849-969207d21cd6');\n",
              "          const dataTable =\n",
              "            await google.colab.kernel.invokeFunction('convertToInteractive',\n",
              "                                                     [key], {});\n",
              "          if (!dataTable) return;\n",
              "\n",
              "          const docLinkHtml = 'Like what you see? Visit the ' +\n",
              "            '<a target=\"_blank\" href=https://colab.research.google.com/notebooks/data_table.ipynb>data table notebook</a>'\n",
              "            + ' to learn more about interactive tables.';\n",
              "          element.innerHTML = '';\n",
              "          dataTable['output_type'] = 'display_data';\n",
              "          await google.colab.output.renderOutput(dataTable, element);\n",
              "          const docLink = document.createElement('div');\n",
              "          docLink.innerHTML = docLinkHtml;\n",
              "          element.appendChild(docLink);\n",
              "        }\n",
              "      </script>\n",
              "    </div>\n",
              "  </div>\n",
              "  "
            ],
            "text/plain": [
              "    Model  Alpha Error  Value\n",
              "0   Lasso    0.1   MAE      0\n",
              "1   Lasso    0.5   MAE      0\n",
              "2   Lasso    1.0   MAE      0\n",
              "3   Lasso    5.0   MAE      0\n",
              "4   Lasso   10.0   MAE      0\n",
              "5   Lasso   20.0   MAE      0\n",
              "6   Lasso    0.1   MSE      0\n",
              "7   Lasso    0.5   MSE      0\n",
              "8   Lasso    1.0   MSE      0\n",
              "9   Lasso    5.0   MSE      0\n",
              "10  Lasso   10.0   MSE      0\n",
              "11  Lasso   20.0   MSE      0\n",
              "12  Lasso    0.1    R2      0\n",
              "13  Lasso    0.5    R2      0\n",
              "14  Lasso    1.0    R2      0\n",
              "15  Lasso    5.0    R2      0\n",
              "16  Lasso   10.0    R2      0\n",
              "17  Lasso   20.0    R2      0"
            ]
          },
          "execution_count": 11,
          "metadata": {},
          "output_type": "execute_result"
        }
      ],
      "source": [
        "'''\n",
        "\n",
        "Split the ocean dataset into training, validation, and test set (60%-20%-20%) with random_state = 123\n",
        "\n",
        "Hint: use sklearn train_test_split twice\n",
        "\n",
        "Run Lasso regression model on the training and validation set for different alpha values\n",
        "α = [0.1,0.5,1,5,10,20]\n",
        "\n",
        "Print a pandas dataframe containing the validation mean squared error, mean absolute error, r2 score for each α\n",
        "\n",
        "Determine the best α based on mean squared error, mean absolute error, r2 score\n",
        "\n",
        "Run Lasso regression model on the training and test set with this α\n",
        "\n",
        "Show test mean squared error, mean absolute error, r2 score\n",
        "\n",
        "'''\n",
        "\n",
        "# -------------------------------------------------------------------------\n",
        "# IMPLEMENT - 1 Point\n",
        "# -------------------------------------------------------------------------\n",
        "\n",
        "# example\n",
        "df = pd.DataFrame({\"Model\":[\"Lasso\"]*18,\"Alpha\":[0.1,0.1,0.1,0.5,0.5,0.5,1,1,1,5,5,5,10,10,10,20,20,20],\n",
        "                   \"Error\":[\"MSE\",\"MAE\",\"R2\"]*6,\"Value\":[0]*18})\n",
        "df = df.sort_values([\"Error\",\"Alpha\"]).reset_index(drop=True)\n",
        "df"
      ]
    }
  ],
  "metadata": {
    "colab": {
      "collapsed_sections": [],
      "provenance": []
    },
    "kernelspec": {
      "display_name": "Python 3.10.4 ('NumPy')",
      "language": "python",
      "name": "python3"
    },
    "language_info": {
      "name": "python",
      "version": "3.10.4"
    },
    "vscode": {
      "interpreter": {
        "hash": "03a2089fbed06f4aaa75051fc3fb7bbcaec74a1308c357da05fa87723e322cf7"
      }
    }
  },
  "nbformat": 4,
  "nbformat_minor": 0
}
