{
  "cells": [
    {
      "cell_type": "markdown",
      "metadata": {
        "id": "0v27fwA_9y9k"
      },
      "source": [
        "# Homework 3 - Optimization\n",
        "For homework 3, you will apply optimization to a synthetic dataset. This assignment is designed to provide hands-on practices. \n",
        "\n",
        "MAKE YOUR OWN COPY OF THIS FILE BEFORE YOU START. \n",
        "\n",
        "Complete each task and submit your Jupyter notebook on Blackboard.\n",
        "\n",
        "# Section:\n",
        "- Submodular Set Function Optimization\n",
        "  - Synthetic Dataset\n",
        "  - Data Visualization\n",
        "  - Greedy Optimization\n",
        "  - Grid Coverage Visualization\n",
        "  - Result Visualization\n",
        "  - Runtime Analysis\n",
        "\n",
        "## To-Do Lists\n",
        "Look out for sections marked \"# IMPLEMENT\" and \"# QUESTION\"\n",
        "- Undergrads: 4 Implement Blocks + 2 Question Block - 6 Points Total\n",
        "- Masters: 4 Implement Blocks + 2 Question Block - 6 Points Total\n",
        "\n",
        "Partial credits will be given."
      ]
    },
    {
      "cell_type": "code",
      "execution_count": null,
      "metadata": {
        "id": "LRdI3Bsj-uKu"
      },
      "outputs": [
        {
          "ename": "",
          "evalue": "",
          "output_type": "error",
          "traceback": [
            "\u001b[1;31mRunning cells with 'Python 3.10.4 ('NumPy')' requires ipykernel package.\n",
            "\u001b[1;31mRun the following command to install 'ipykernel' into the Python environment. \n",
            "\u001b[1;31mCommand: 'conda install -n NumPy ipykernel --update-deps --force-reinstall'"
          ]
        }
      ],
      "source": [
        "import pandas as pd\n",
        "import numpy as np\n",
        "import matplotlib.pyplot as plt\n",
        "import random\n",
        "import time"
      ]
    },
    {
      "cell_type": "markdown",
      "metadata": {
        "id": "xGSxMnskB-M_"
      },
      "source": [
        "## [1] Synthetic Dataset"
      ]
    },
    {
      "cell_type": "code",
      "execution_count": null,
      "metadata": {
        "id": "ueVzh0j624YE"
      },
      "outputs": [],
      "source": [
        "grid_dimension = 50 # dimension of square grid on which sensors will be placed\n",
        "n_sensors = 20 # number of total sensors to choose from\n",
        "np.random.seed(42) # set radnom seed"
      ]
    },
    {
      "cell_type": "code",
      "execution_count": null,
      "metadata": {
        "id": "XG_cdiauB-NA"
      },
      "outputs": [],
      "source": [
        "# here we synthetically create a dataset of sensors with random centers and radii\n",
        "def load_dataset(grid_dimension, n_sensors):\n",
        "    # sensor candidates\n",
        "    IDs = list(range(n_sensors))\n",
        "    df = pd.DataFrame(IDs, columns = ['ID']) \n",
        "\n",
        "    df['cr'] = np.random.randint(1, grid_dimension//5, df.shape[0]) # randomly assign radius to each circle\n",
        "    df['cx'] = np.random.randint(1, grid_dimension-1, df.shape[0]) # randomly assign x coordinate for center of circle\n",
        "    df['cy'] = np.random.randint(1, grid_dimension-1, df.shape[0]) # randomly assign y coordinate for center of circle\n",
        "    \n",
        "    return df\n",
        "\n",
        "df = load_dataset(grid_dimension, n_sensors)\n",
        "print(df.shape)\n",
        "df.head()"
      ]
    },
    {
      "cell_type": "markdown",
      "metadata": {
        "id": "bD22ONWQrapn"
      },
      "source": [
        "## [2] Data Visualization"
      ]
    },
    {
      "cell_type": "code",
      "execution_count": null,
      "metadata": {
        "id": "UsPQkSRwrapo"
      },
      "outputs": [],
      "source": [
        "# each circle represents a sensor and the area of the circle represents the grid points that sensor covers\n",
        "df.sort_values(by='cr', ascending=False, inplace=True) # plots bigger circles underneath smaller ones\n",
        "\n",
        "fig, ax = plt.subplots(figsize=(10,10)) \n",
        "ax.set_xticks(list(range(grid_dimension)))\n",
        "ax.set_yticks(list(range(grid_dimension)))\n",
        "\n",
        "colors = []\n",
        "for i in range(df.shape[0]):\n",
        "    colors.append((np.random.rand(), np.random.rand(), np.random.rand()))\n",
        "\n",
        "for i,row in df.iterrows():\n",
        "    c = plt.Circle((row['cx'], row['cy']), row['cr'], color=colors[row['ID']])\n",
        "    ax.add_artist(c)\n",
        "    ax.annotate(row['ID'], xy=(row['cx'], row['cy']), ha=\"center\")"
      ]
    },
    {
      "cell_type": "markdown",
      "metadata": {
        "id": "eBBmFP3dB-NJ"
      },
      "source": [
        "## [3] Greedy Optimization"
      ]
    },
    {
      "cell_type": "code",
      "execution_count": null,
      "metadata": {
        "id": "qDq3eZHYB-NO"
      },
      "outputs": [],
      "source": [
        "'''\n",
        "\n",
        "    Given grid point (x,y), a circle's center (cx, cy), and radius cr.\n",
        "    \n",
        "    Output:\n",
        "    True if grid point (x,y) falls on or within that circle.\n",
        "    \n",
        "    def in_circle(x, y, cx, cy, cr):\n",
        "        return\n",
        "\n",
        "    -----------------------------------------------------------------------\n",
        "\n",
        "    Given an nxn grid, circle's center (cx, cy), and radius cr.\n",
        "    \n",
        "    Output:\n",
        "    A set of all grid points that the circle with center (cx, cy) \n",
        "    and radius cr covers in a n by n grid.\n",
        "    \n",
        "    def covered_pts(n, cx, cy, cr):\n",
        "        return\n",
        "\n",
        "    -----------------------------------------------------------------------\n",
        "\n",
        "    Example code for getting intersection between two sets.\n",
        "    Think about how you can modify this to get union between two sets.\n",
        "    \n",
        "    aset = {1,3,5}\n",
        "    bset = {1,2,6}\n",
        "    inter = aset & bset\n",
        "\n",
        "    -----------------------------------------------------------------------\n",
        "\n",
        "    Given a set of circle IDs (S) and a new circle ID (c).\n",
        "    \n",
        "    Output:\n",
        "    The union of points covered by S + c.\n",
        "    \n",
        "    def F(S, c, df, coveredset=None):\n",
        "        return\n",
        "\n",
        "    -----------------------------------------------------------------------\n",
        "\n",
        "    Maximize coverage of grid points covered given a budget of k sensors.\n",
        "\n",
        "    Start with an empty set. Determine best circle to add among unchosen circles, \n",
        "    add to set and repeat k times for each k, keep track of how many total grid points \n",
        "    are covered.\n",
        "\n",
        "    Output:\n",
        "    A pair of ordered list.\n",
        "      - the first ordered list consists of the IDs of chosen circles/sensors at each iteration of greedy\n",
        "      - the second ordered list consists of the corresponding number of covered grid points \n",
        "        after choosing i circles/sensors \n",
        "    \n",
        "    def greedy(df, k):\n",
        "        return\n",
        "\n",
        "'''\n",
        "    \n",
        "def in_circle(x, y, cx, cy, cr):\n",
        "    if((x-cx)**2 + (y-cy)**2 <= cr**2):\n",
        "        return True\n",
        "    else:\n",
        "        return False\n",
        "    \n",
        "def covered_pts(n, cx, cy, cr):\n",
        "    xperim = np.arange(cx - cr - 1, cx + cr + 1, dtype=int)\n",
        "    yperim = np.arange(cy - cr - 1, cy + cr + 1, dtype=int)\n",
        "    x, y = np.where((xperim[:,np.newaxis] - cx)**2 + (yperim - cy)**2 <= cr**2)\n",
        "    covered = set()\n",
        "    for x, y in zip(xperim[x], yperim[y]):\n",
        "        if((x>0)&(y>0)&(x<=n)&(y<=n)):\n",
        "            covered.add((x,y))\n",
        "    return covered\n",
        "    \n",
        "def F(S, c, df, coveredset=None):\n",
        "    for circle in S:\n",
        "        curCr = df.loc[circle, 'cr']\n",
        "        curCx = df.loc[circle, 'cx']\n",
        "        curCy = df.loc[circle, 'cy']\n",
        "        xperim = np.arange(curCx - curCr - 1, curCx + curCr + 1, dtype=int)\n",
        "        yperim = np.arange(curCy - curCr - 1, curCy + curCr + 1, dtype=int)\n",
        "        x, y = np.where((xperim[:,np.newaxis] - curCx)**2 + (yperim - curCy)**2 <= curCr**2)\n",
        "        for x, y in zip(xperim[x], yperim[y]):\n",
        "            coveredset.add((x,y))\n",
        "    cCr = df.loc[c, 'cr']\n",
        "    cCx = df.loc[c, 'cx']\n",
        "    cCy = df.loc[c, 'cy']\n",
        "    xperim = np.arange(cCx - cCr - 1, cCx + cCr + 1, dtype=int)\n",
        "    yperim = np.arange(cCy - cCr - 1, cCy + cCr + 1, dtype=int)\n",
        "    x, y = np.where((xperim[:,np.newaxis] - cCx)**2 + (yperim - cCy)**2 <= cCr**2)\n",
        "    for x, y in zip(xperim[x], yperim[y]):\n",
        "        coveredset.add((x,y))\n",
        "    return coveredset\n",
        "    \n",
        "def greedy(df, k):\n",
        "    currentMax = 0\n",
        "    setCircles = set()\n",
        "    setPoints = set() #covered\n",
        "    for circle in df:\n",
        "        thisCircleCovers = F(setCircles, circle, df, setPoints)\n",
        "        if(len(thisCircleCovers) > currentMax):\n",
        "            setPoints = thisCircleCovers\n",
        "            setCircles.add(circle)\n",
        "            currentMax = len(thisCircleCovers)\n",
        "    #once initial optimal circle is found\n",
        "    for i in range(k-2):   \n",
        "        currentMax = 0\n",
        "        prevCircle = df[:,0]\n",
        "        for circle in df:\n",
        "            marginalCoverage = len(F(setCircles, circle, df, setPoints)) - len(setPoints)\n",
        "            if(marginalCoverage > currentMax):\n",
        "                setPoints = F(setCircles, circle, df, setPoints)\n",
        "                setCircles.add(circle)\n",
        "                currentMax = marginalCoverage\n",
        "                if(currentMax != 0):\n",
        "                    setCircles.remove(prevCircle)\n",
        "                prevCircle = circle\n",
        "\n",
        "    return\n",
        "\n",
        "# -------------------------------------------------------------------------\n",
        "# IMPLEMENT - 1 Point\n",
        "# -------------------------------------------------------------------------\n"
      ]
    },
    {
      "cell_type": "code",
      "execution_count": null,
      "metadata": {
        "id": "MrEWW6IZB-NR"
      },
      "outputs": [],
      "source": [
        "k=10 # budget on how many sensors we are allowed to choose\n",
        "df['gridpt_set'] = df.apply(lambda row: covered_pts(grid_dimension,row['cx'],row['cy'],row['cr']),axis=1) # add column containing grid points covered by each circle\n",
        "result = greedy(df, k) # run greedy optimization, should return list of chosen circle IDs where len(result) == k\n",
        "print(result[0]) # ID\n",
        "print(result[1]) # #covered"
      ]
    },
    {
      "cell_type": "markdown",
      "metadata": {
        "id": "ElAGujTT6233"
      },
      "source": [
        "## [4] Grid Coverage Visualization"
      ]
    },
    {
      "cell_type": "code",
      "execution_count": null,
      "metadata": {
        "id": "ToJiKvcM3vji"
      },
      "outputs": [],
      "source": [
        "'''\n",
        "    Use your greedy results.\n",
        "\n",
        "    Show a line plot - 1 to k vs number of grid point covered. \n",
        "\n",
        "'''\n",
        "\n",
        "# -------------------------------------------------------------------------\n",
        "# IMPLEMENT - 1 Point\n",
        "# -------------------------------------------------------------------------\n"
      ]
    },
    {
      "cell_type": "code",
      "execution_count": null,
      "metadata": {
        "id": "CZBpbTBb4_fx"
      },
      "outputs": [],
      "source": [
        "'''\n",
        "\n",
        "    Use your greedy results.\n",
        "\n",
        "    Show a line plot - 2 to k vs change of number of grid point covered.\n",
        "\n",
        "    Hint:\n",
        "    Consecutive difference between list elements.\n",
        "\n",
        "'''\n",
        "\n",
        "# -------------------------------------------------------------------------\n",
        "# IMPLEMENT - 1 Point\n",
        "# -------------------------------------------------------------------------\n"
      ]
    },
    {
      "cell_type": "code",
      "execution_count": null,
      "metadata": {
        "id": "cRrZmaUi7ieS"
      },
      "outputs": [],
      "source": [
        "'''\n",
        "\n",
        "Q: If we have an increase #covered of 100 requirement, we will stop at which k?\n",
        "\n",
        "'''\n",
        "\n",
        "# -------------------------------------------------------------------------\n",
        "# QUESTION - 1 Point\n",
        "# -------------------------------------------------------------------------\n",
        "\n",
        "# Your answer.\n"
      ]
    },
    {
      "cell_type": "markdown",
      "metadata": {
        "id": "U_M_qJ1Iraq1"
      },
      "source": [
        "## [5] Result Visualization"
      ]
    },
    {
      "cell_type": "code",
      "execution_count": null,
      "metadata": {
        "id": "F0DNX5l4raq3"
      },
      "outputs": [],
      "source": [
        "# left figure is a visualization of how many grid points our selection of sensors covers\n",
        "# we can compare it with the visualization of all sensors from before (right figure)\n",
        "fig, ax = plt.subplots(ncols=2, figsize=(20,10)) # note we must use plt.subplots, not plt.subplot\n",
        "\n",
        "ax[0].set_xticks(list(range(grid_dimension)))\n",
        "ax[0].set_yticks(list(range(grid_dimension)))\n",
        "ax[1].set_xticks(list(range(grid_dimension)))\n",
        "ax[1].set_yticks(list(range(grid_dimension)))\n",
        "\n",
        "b=10\n",
        "sensors10 = result[0][:b]\n",
        "ax[0].set_title('k = ' + str(b))\n",
        "ax[1].set_title('all')\n",
        "\n",
        "for i,row in df.iterrows():\n",
        "    c = plt.Circle((row['cx'], row['cy']), row['cr'], color=colors[row['ID']])\n",
        "    if row['ID'] in sensors10:\n",
        "        ax[0].add_artist(c)\n",
        "        ax[0].annotate(row['ID'], xy=(row['cx'], row['cy']), ha=\"center\")\n",
        "    c = plt.Circle((row['cx'], row['cy']), row['cr'], color=colors[row['ID']])\n",
        "    ax[1].add_artist(c)\n",
        "    ax[1].annotate(row['ID'], xy=(row['cx'], row['cy']), ha=\"center\")"
      ]
    },
    {
      "cell_type": "markdown",
      "metadata": {
        "id": "izpdKoV16xhn"
      },
      "source": [
        "## [6] Runtime Analysis"
      ]
    },
    {
      "cell_type": "code",
      "execution_count": null,
      "metadata": {
        "id": "iXoxGJOo36X5"
      },
      "outputs": [],
      "source": [
        "'''\n",
        "\n",
        "    Rerun greedy optimization.\n",
        "    \n",
        "    Get runtimes for each i in k_arr (for each i, consider n_sensors == k == k_arr[i]).\n",
        "\n",
        "    Show a line plot - k vs. runtime (sec).\n",
        "\n",
        "    Hint:\n",
        "    Use time.time() .\n",
        "\n",
        "'''\n",
        "\n",
        "# -------------------------------------------------------------------------\n",
        "# IMPLEMENT - 1 Point\n",
        "# -------------------------------------------------------------------------\n",
        "\n",
        "grid_dimension = 100\n",
        "k_arr = [5, 10, 15, 20, 25, 30, 35, 40, 45, 50]\n"
      ]
    },
    {
      "cell_type": "code",
      "execution_count": null,
      "metadata": {
        "id": "yDwr95X3HIb9"
      },
      "outputs": [],
      "source": [
        "'''\n",
        "\n",
        "Q: If we increase grid_dimension from 100 to 500, how much will runtimes increase?\n",
        "\n",
        "'''\n",
        "\n",
        "grid_dimension = 500\n",
        "k_arr = [5, 10, 15, 20, 25, 30, 35, 40, 45, 50]\n",
        "\n",
        "# Your answer.\n"
      ]
    }
  ],
  "metadata": {
    "colab": {
      "collapsed_sections": [],
      "provenance": [],
      "toc_visible": true
    },
    "kernelspec": {
      "display_name": "Python 3.10.4 ('NumPy')",
      "language": "python",
      "name": "python3"
    },
    "language_info": {
      "codemirror_mode": {
        "name": "ipython",
        "version": 3
      },
      "file_extension": ".py",
      "mimetype": "text/x-python",
      "name": "python",
      "nbconvert_exporter": "python",
      "pygments_lexer": "ipython3",
      "version": "3.10.4"
    },
    "vscode": {
      "interpreter": {
        "hash": "03a2089fbed06f4aaa75051fc3fb7bbcaec74a1308c357da05fa87723e322cf7"
      }
    }
  },
  "nbformat": 4,
  "nbformat_minor": 0
}
